{
 "cells": [
  {
   "cell_type": "code",
   "execution_count": 14,
   "id": "2d4be141",
   "metadata": {},
   "outputs": [
    {
     "name": "stdout",
     "output_type": "stream",
     "text": [
      "\n",
      "* \n",
      "* * \n",
      "* * * \n",
      "* * * * \n",
      "* * * * * \n",
      "* * \n",
      "* * * \n",
      "* * * * \n",
      "* * * * * "
     ]
    }
   ],
   "source": [
    "\n",
    "for i in range(0,9):\n",
    "    print()\n",
    "    if i<=4:\n",
    "        \n",
    "        for j in range(i+1):\n",
    "            print(\"*\", end=\" \")\n",
    "    else:\n",
    "        \n",
    "         for k in range(i-j+1):\n",
    "            print(\"*\", end=\" \")\n",
    "        \n",
    "        \n",
    "        \n",
    "        \n",
    "           \n",
    "            "
   ]
  },
  {
   "cell_type": "code",
   "execution_count": null,
   "id": "f6652d9a",
   "metadata": {},
   "outputs": [],
   "source": [
    "if j==4:\n",
    "            break\n",
    "    for k in range(4):"
   ]
  }
 ],
 "metadata": {
  "kernelspec": {
   "display_name": "Python 3 (ipykernel)",
   "language": "python",
   "name": "python3"
  },
  "language_info": {
   "codemirror_mode": {
    "name": "ipython",
    "version": 3
   },
   "file_extension": ".py",
   "mimetype": "text/x-python",
   "name": "python",
   "nbconvert_exporter": "python",
   "pygments_lexer": "ipython3",
   "version": "3.9.12"
  }
 },
 "nbformat": 4,
 "nbformat_minor": 5
}
